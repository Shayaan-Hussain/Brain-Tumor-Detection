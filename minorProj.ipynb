{
 "cells": [
  {
   "cell_type": "code",
   "execution_count": 1,
   "metadata": {},
   "outputs": [],
   "source": [
    "import numpy as np\n",
    "from keras.models import Model\n",
    "from keras.layers import Input, Flatten, Conv2D, MaxPooling2D, BatchNormalization, Dense, ZeroPadding2D, Activation\n",
    "import cv2\n",
    "from sklearn.utils import shuffle\n",
    "from sklearn.model_selection import train_test_split\n",
    "from sklearn.metrics import confusion_matrix, accuracy_score\n",
    "import warnings\n",
    "from os import *\n",
    "warnings.filterwarnings('ignore')"
   ]
  },
  {
   "cell_type": "code",
   "execution_count": 2,
   "metadata": {},
   "outputs": [],
   "source": [
    "x = []\n",
    "y = []\n",
    "for directory in ['augmented data/yes', 'augmented data/no']:\n",
    "\tfor filename in listdir(directory):\n",
    "\t\timage = cv2.imread(directory + '/' + filename)\n",
    "\t\timage = cv2.resize(image, dsize=(240,240), interpolation=cv2.INTER_CUBIC)\n",
    "\t\timage = image / 255.\n",
    "\t\tx.append(image)\n",
    "\t\tif directory[-3:] == 'yes':\n",
    "\t\t\ty.append([1])\n",
    "\t\telse:\n",
    "\t\t\ty.append([0])"
   ]
  },
  {
   "cell_type": "code",
   "execution_count": 3,
   "metadata": {},
   "outputs": [
    {
     "name": "stdout",
     "output_type": "stream",
     "text": [
      "Number of samples : 2065\n",
      "x shape : (2065, 240, 240, 3)\n",
      "y shape : (2065, 1)\n"
     ]
    }
   ],
   "source": [
    "x = np.array(x)\n",
    "y = np.array(y)\n",
    "x, y = shuffle(x, y)\n",
    "\n",
    "print(f'Number of samples : {len(x)}')\n",
    "print(f'x shape : {x.shape}')\n",
    "print(f'y shape : {y.shape}')"
   ]
  },
  {
   "cell_type": "code",
   "execution_count": 4,
   "metadata": {},
   "outputs": [],
   "source": [
    "xtrain, xtest, ytrain, ytest = train_test_split(x, y, test_size=0.2, random_state=101)"
   ]
  },
  {
   "cell_type": "code",
   "execution_count": 5,
   "metadata": {},
   "outputs": [],
   "source": [
    "input = Input((240,240,3))\n",
    "model = ZeroPadding2D((2, 2))(input)\n",
    "model = Conv2D(32, (7, 7), strides = (1, 1), name = 'conv0')(model)\n",
    "model = BatchNormalization(axis = 3, name = 'bn0')(model)\n",
    "model = Activation('relu')(model)\n",
    "model = MaxPooling2D((4, 4), name='max_pool0')(model) \n",
    "model = MaxPooling2D((4, 4), name='max_pool1')(model)\n",
    "model = Flatten()(model)\n",
    "model = Dense(1, activation='sigmoid', name='fc')(model)\n",
    "model = Model(inputs = input, outputs = model, name='BrainTumorDetection')\n",
    "model.compile(optimizer='adam', loss='binary_crossentropy', metrics=['accuracy'])"
   ]
  },
  {
   "cell_type": "code",
   "execution_count": 6,
   "metadata": {},
   "outputs": [
    {
     "name": "stdout",
     "output_type": "stream",
     "text": [
      "Model: \"BrainTumorDetection\"\n",
      "_________________________________________________________________\n",
      " Layer (type)                Output Shape              Param #   \n",
      "=================================================================\n",
      " input_1 (InputLayer)        [(None, 240, 240, 3)]     0         \n",
      "                                                                 \n",
      " zero_padding2d (ZeroPadding  (None, 244, 244, 3)      0         \n",
      " 2D)                                                             \n",
      "                                                                 \n",
      " conv0 (Conv2D)              (None, 238, 238, 32)      4736      \n",
      "                                                                 \n",
      " bn0 (BatchNormalization)    (None, 238, 238, 32)      128       \n",
      "                                                                 \n",
      " activation (Activation)     (None, 238, 238, 32)      0         \n",
      "                                                                 \n",
      " max_pool0 (MaxPooling2D)    (None, 59, 59, 32)        0         \n",
      "                                                                 \n",
      " max_pool1 (MaxPooling2D)    (None, 14, 14, 32)        0         \n",
      "                                                                 \n",
      " flatten (Flatten)           (None, 6272)              0         \n",
      "                                                                 \n",
      " fc (Dense)                  (None, 1)                 6273      \n",
      "                                                                 \n",
      "=================================================================\n",
      "Total params: 11,137\n",
      "Trainable params: 11,073\n",
      "Non-trainable params: 64\n",
      "_________________________________________________________________\n",
      "None\n"
     ]
    }
   ],
   "source": [
    "print(model.summary())"
   ]
  },
  {
   "cell_type": "code",
   "execution_count": 7,
   "metadata": {},
   "outputs": [
    {
     "name": "stdout",
     "output_type": "stream",
     "text": [
      "Epoch 1/10\n",
      "52/52 [==============================] - 102s 2s/step - loss: 0.7477 - accuracy: 0.6810\n",
      "Epoch 2/10\n",
      "52/52 [==============================] - 97s 2s/step - loss: 0.5433 - accuracy: 0.7403\n",
      "Epoch 3/10\n",
      "52/52 [==============================] - 94s 2s/step - loss: 0.5259 - accuracy: 0.7439\n",
      "Epoch 4/10\n",
      "52/52 [==============================] - 99s 2s/step - loss: 0.4443 - accuracy: 0.7900\n",
      "Epoch 5/10\n",
      "52/52 [==============================] - 95s 2s/step - loss: 0.4139 - accuracy: 0.8045\n",
      "Epoch 6/10\n",
      "52/52 [==============================] - 95s 2s/step - loss: 0.3952 - accuracy: 0.8305\n",
      "Epoch 7/10\n",
      "52/52 [==============================] - 96s 2s/step - loss: 0.4223 - accuracy: 0.8045\n",
      "Epoch 8/10\n",
      "52/52 [==============================] - 87s 2s/step - loss: 0.4001 - accuracy: 0.8202\n",
      "Epoch 9/10\n",
      "52/52 [==============================] - 84s 2s/step - loss: 0.3274 - accuracy: 0.8565\n",
      "Epoch 10/10\n",
      "52/52 [==============================] - 94s 2s/step - loss: 0.3161 - accuracy: 0.8571\n"
     ]
    },
    {
     "data": {
      "text/plain": [
       "<keras.callbacks.History at 0x1ea85c15450>"
      ]
     },
     "execution_count": 7,
     "metadata": {},
     "output_type": "execute_result"
    }
   ],
   "source": [
    "model.fit(x=xtrain, y=ytrain, batch_size=32, epochs=10)"
   ]
  },
  {
   "cell_type": "code",
   "execution_count": 8,
   "metadata": {},
   "outputs": [],
   "source": [
    "test_pred = np.round(model.predict(xtest))\n",
    "train_pred = np.round(model.predict(xtrain))"
   ]
  },
  {
   "cell_type": "code",
   "execution_count": 9,
   "metadata": {},
   "outputs": [],
   "source": [
    "def thres(pred):\n",
    "\toutput = []\n",
    "\tfor i in pred:\n",
    "\t\tif i > 0.8:\n",
    "\t\t\toutput.append([1])\n",
    "\t\telse:\n",
    "\t\t\toutput.append([0])\n",
    "\treturn output\n",
    "\n",
    "test_output = thres(test_pred)\n",
    "train_output = thres(train_pred)"
   ]
  },
  {
   "cell_type": "code",
   "execution_count": 10,
   "metadata": {},
   "outputs": [
    {
     "name": "stdout",
     "output_type": "stream",
     "text": [
      "Training Data Metrics\n",
      "[[727  58]\n",
      " [ 99 768]]\n",
      "0.9049636803874092\n",
      "Testing Data Metrics\n",
      "[[165  30]\n",
      " [ 47 171]]\n",
      "0.8135593220338984\n"
     ]
    }
   ],
   "source": [
    "print('Training Data Metrics')\n",
    "print(confusion_matrix(ytrain, train_output))\n",
    "print(accuracy_score(ytrain, train_output))\n",
    "print('Testing Data Metrics')\n",
    "print(confusion_matrix(ytest, test_output))\n",
    "print(accuracy_score(ytest, test_output))"
   ]
  },
  {
   "cell_type": "code",
   "execution_count": 11,
   "metadata": {},
   "outputs": [],
   "source": [
    "model.save('BrainTumorModel.h5')"
   ]
  }
 ],
 "metadata": {
  "interpreter": {
   "hash": "d0e304ef9624462ff823e38fd51ed9a32308636540bfb1ce6e4b0b24d9a11545"
  },
  "kernelspec": {
   "display_name": "Python 3.10.4 64-bit (windows store)",
   "language": "python",
   "name": "python3"
  },
  "language_info": {
   "codemirror_mode": {
    "name": "ipython",
    "version": 3
   },
   "file_extension": ".py",
   "mimetype": "text/x-python",
   "name": "python",
   "nbconvert_exporter": "python",
   "pygments_lexer": "ipython3",
   "version": "3.10.5"
  },
  "orig_nbformat": 4
 },
 "nbformat": 4,
 "nbformat_minor": 2
}
